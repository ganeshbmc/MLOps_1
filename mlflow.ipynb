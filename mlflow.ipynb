{
 "cells": [
  {
   "cell_type": "markdown",
   "id": "6dfbadf4-924e-4e45-bb9d-6700ed51b3ab",
   "metadata": {},
   "source": [
    "# MLflow  "
   ]
  },
  {
   "cell_type": "markdown",
   "id": "97d22c64-70b7-4a59-b9bb-251fcd8459d9",
   "metadata": {},
   "source": [
    "## 1. Get data using Feast  "
   ]
  },
  {
   "cell_type": "code",
   "execution_count": 1,
   "id": "18e47678-a7aa-4003-be1c-3ee6bcf8b27c",
   "metadata": {
    "tags": []
   },
   "outputs": [
    {
     "name": "stderr",
     "output_type": "stream",
     "text": [
      "/opt/conda/envs/iris_env_c/lib/python3.10/site-packages/pydantic/_internal/_fields.py:192: UserWarning: Field name \"vector_enabled\" in \"SqliteOnlineStoreConfig\" shadows an attribute in parent \"VectorStoreConfig\"\n",
      "  warnings.warn(\n",
      "/opt/conda/envs/iris_env_c/lib/python3.10/site-packages/feast/repo_config.py:268: DeprecationWarning: The serialization version 2 and below will be deprecated in the next release. Specifying `entity_key_serialization_version` to 3 is recommended.\n",
      "  warnings.warn(\n"
     ]
    },
    {
     "data": {
      "text/plain": [
       "((240, 7),\n",
       " Index(['flower_id', 'event_timestamp', 'species', 'sepal_length',\n",
       "        'sepal_width', 'petal_length', 'petal_width'],\n",
       "       dtype='object'),\n",
       "    flower_id           event_timestamp    species  sepal_length  sepal_width  \\\n",
       " 0        110 2023-12-31 23:59:59+00:00  virginica           6.8          3.0   \n",
       " 1        105 2023-12-31 23:59:59+00:00  virginica           6.7          3.3   \n",
       " 2         20 2023-12-31 23:59:59+00:00     setosa           4.6          3.2   \n",
       " 3        132 2023-12-31 23:59:59+00:00  virginica           6.9          3.1   \n",
       " 4          1 2023-12-31 23:59:59+00:00     setosa           4.6          3.6   \n",
       " \n",
       "    petal_length  petal_width  \n",
       " 0           5.5          2.1  \n",
       " 1           5.7          2.5  \n",
       " 2           1.4          0.2  \n",
       " 3           5.4          2.1  \n",
       " 4           1.0          0.2  )"
      ]
     },
     "execution_count": 1,
     "metadata": {},
     "output_type": "execute_result"
    }
   ],
   "source": [
    "from helpers.feast_utils import load_training_data\n",
    "\n",
    "train_df = load_training_data(from_year=2023, to_year=2024)\n",
    "train_df.shape, train_df.columns, train_df.head()"
   ]
  },
  {
   "cell_type": "code",
   "execution_count": 2,
   "id": "d1c710c4-02d4-4bb1-9692-a41e4c11d850",
   "metadata": {
    "tags": []
   },
   "outputs": [
    {
     "name": "stderr",
     "output_type": "stream",
     "text": [
      "/opt/conda/envs/iris_env_c/lib/python3.10/site-packages/feast/repo_config.py:268: DeprecationWarning: The serialization version 2 and below will be deprecated in the next release. Specifying `entity_key_serialization_version` to 3 is recommended.\n",
      "  warnings.warn(\n"
     ]
    },
    {
     "data": {
      "text/plain": [
       "((60, 7),\n",
       " Index(['flower_id', 'event_timestamp', 'species', 'sepal_length',\n",
       "        'sepal_width', 'petal_width', 'petal_length'],\n",
       "       dtype='object'),\n",
       "    flower_id     event_timestamp species  sepal_length  sepal_width  \\\n",
       " 0        241 2025-12-31 23:59:59  setosa      5.124007     3.414618   \n",
       " 1        242 2025-12-31 23:59:59  setosa      5.091912     3.495279   \n",
       " 2        243 2025-12-31 23:59:59  setosa      4.897901     2.974365   \n",
       " 3        244 2025-12-31 23:59:59  setosa      5.227264     4.075287   \n",
       " 4        245 2025-12-31 23:59:59  setosa      4.652927     3.555841   \n",
       " \n",
       "    petal_width  petal_length  \n",
       " 0     0.297925      1.413890  \n",
       " 1     0.338587      1.533552  \n",
       " 2     0.098859      1.579757  \n",
       " 3     0.030783      1.420465  \n",
       " 4     0.235786      0.948662  )"
      ]
     },
     "execution_count": 2,
     "metadata": {},
     "output_type": "execute_result"
    }
   ],
   "source": [
    "from helpers.feast_utils import load_simulated_online_features\n",
    "\n",
    "test_df = load_simulated_online_features(from_year=2025, to_year=2025)\n",
    "test_df.shape, test_df.columns, test_df.head()"
   ]
  },
  {
   "cell_type": "markdown",
   "id": "9aa852ac-595f-418b-afbd-756a15df44f1",
   "metadata": {},
   "source": [
    "## 2. Track data with DVC  "
   ]
  },
  {
   "cell_type": "code",
   "execution_count": 1,
   "id": "41f7576e-6ef7-401c-b32f-48e2f6c72fbc",
   "metadata": {
    "tags": []
   },
   "outputs": [
    {
     "data": {
      "text/plain": [
       "'3.59.2'"
      ]
     },
     "execution_count": 1,
     "metadata": {},
     "output_type": "execute_result"
    }
   ],
   "source": [
    "import dvc\n",
    "dvc.__version__"
   ]
  },
  {
   "cell_type": "code",
   "execution_count": 2,
   "id": "409c73ce-bd45-45c9-a141-b49ecc786339",
   "metadata": {
    "tags": []
   },
   "outputs": [
    {
     "name": "stdout",
     "output_type": "stream",
     "text": [
      "gcs_remote      gs://mlops-course-polar-pillar-461115-g2-week3  (default)\n"
     ]
    }
   ],
   "source": [
    "!dvc remote list"
   ]
  },
  {
   "cell_type": "code",
   "execution_count": 3,
   "id": "02078121-2512-4cbc-acf5-39e0aa5fd68a",
   "metadata": {
    "tags": []
   },
   "outputs": [
    {
     "name": "stdout",
     "output_type": "stream",
     "text": [
      "Collecting                                            |36.0 [00:00,  291entry/s]\n",
      "Pushing\n",
      "!\n",
      "  0% Querying remote cache|                          |0/5 [00:00<?,    ?files/s]\n",
      " 20% Querying remote cache|████▏                |1/5 [00:00<00:00,  8.46files/s]\n",
      "                                                                                \n",
      "!\n",
      "  0% Querying remote cache|                          |0/0 [00:00<?,    ?files/s]\n",
      "Pushing                                                                         \n",
      "Everything is up to date.\n"
     ]
    }
   ],
   "source": [
    "!dvc push"
   ]
  },
  {
   "cell_type": "markdown",
   "id": "9388ab30-8c3d-4120-82ea-94472f664fbf",
   "metadata": {},
   "source": [
    "## 3. Track experiments with MLflow  "
   ]
  },
  {
   "cell_type": "markdown",
   "id": "92ea391a-ab4a-4205-9e50-644f2ae6c7a5",
   "metadata": {},
   "source": [
    "### Check MLflow set up  "
   ]
  },
  {
   "cell_type": "code",
   "execution_count": 6,
   "id": "13a17646-e1f5-4b31-8ed2-222ad43d7195",
   "metadata": {
    "tags": []
   },
   "outputs": [
    {
     "data": {
      "text/plain": [
       "'3.1.1'"
      ]
     },
     "execution_count": 6,
     "metadata": {},
     "output_type": "execute_result"
    }
   ],
   "source": [
    "import mlflow\n",
    "mlflow.__version__"
   ]
  },
  {
   "cell_type": "code",
   "execution_count": 9,
   "id": "f01e6d96-37c1-4043-b75d-7f2539f4c632",
   "metadata": {
    "tags": []
   },
   "outputs": [
    {
     "name": "stdout",
     "output_type": "stream",
     "text": [
      "Default\n"
     ]
    }
   ],
   "source": [
    "import mlflow\n",
    "from mlflow import MlflowClient\n",
    "\n",
    "mlflow.set_tracking_uri(\"http://127.0.0.1:8100\")\n",
    "client = MlflowClient(mlflow.get_tracking_uri())\n",
    "all_experiments = client.search_experiments()\n",
    "\n",
    "for experiment in all_experiments:\n",
    "    print(experiment.name)"
   ]
  },
  {
   "cell_type": "code",
   "execution_count": 10,
   "id": "bbc92223-d470-401b-93da-bf1630460113",
   "metadata": {
    "tags": []
   },
   "outputs": [
    {
     "data": {
      "text/plain": [
       "'http://127.0.0.1:8100'"
      ]
     },
     "execution_count": 10,
     "metadata": {},
     "output_type": "execute_result"
    }
   ],
   "source": [
    "mlflow.get_tracking_uri()"
   ]
  },
  {
   "cell_type": "markdown",
   "id": "a02164a7-32d9-459b-b6d7-858b2c1a0397",
   "metadata": {},
   "source": [
    "### Track experiments with MLflow  "
   ]
  },
  {
   "cell_type": "code",
   "execution_count": 12,
   "id": "0feb25ef-bf02-458e-8bcb-2ef64e51668f",
   "metadata": {
    "tags": []
   },
   "outputs": [
    {
     "data": {
      "text/plain": [
       "<Experiment: artifact_location='mlflow-artifacts:/621468791798748190', creation_time=1751745426082, experiment_id='621468791798748190', last_update_time=1751745426082, lifecycle_stage='active', name='Iris MLflow Quickstart', tags={}>"
      ]
     },
     "execution_count": 12,
     "metadata": {},
     "output_type": "execute_result"
    }
   ],
   "source": [
    "mlflow.set_experiment(experiment_name=\"Iris MLflow Quickstart\")"
   ]
  },
  {
   "cell_type": "code",
   "execution_count": 14,
   "id": "d7ab0df9-d77e-43ac-8006-f406dcf30086",
   "metadata": {
    "tags": []
   },
   "outputs": [
    {
     "name": "stdout",
     "output_type": "stream",
     "text": [
      "ERROR                                                                 : The output paths:\n",
      "'data'('data.dvc')\n",
      "'data/train_2023.csv'('prepare_data')\n",
      "overlap and are thus in the same tracked directory.\n",
      "To keep reproducibility, outputs should be in separate tracked directories or tracked individually.\n"
     ]
    }
   ],
   "source": [
    "!dvc repro evaluate_2023"
   ]
  },
  {
   "cell_type": "code",
   "execution_count": null,
   "id": "05e0de3b-f172-4d0f-a11b-3309cd1b4555",
   "metadata": {},
   "outputs": [],
   "source": []
  }
 ],
 "metadata": {
  "environment": {
   "kernel": "iris_env_c",
   "name": "workbench-notebooks.m129",
   "type": "gcloud",
   "uri": "us-docker.pkg.dev/deeplearning-platform-release/gcr.io/workbench-notebooks:m129"
  },
  "kernelspec": {
   "display_name": "Conda env iris_env_c",
   "language": "python",
   "name": "iris_env_c"
  },
  "language_info": {
   "codemirror_mode": {
    "name": "ipython",
    "version": 3
   },
   "file_extension": ".py",
   "mimetype": "text/x-python",
   "name": "python",
   "nbconvert_exporter": "python",
   "pygments_lexer": "ipython3",
   "version": "3.10.17"
  }
 },
 "nbformat": 4,
 "nbformat_minor": 5
}
