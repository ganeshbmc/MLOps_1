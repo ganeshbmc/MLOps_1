{
 "cells": [
  {
   "cell_type": "markdown",
   "id": "6dfbadf4-924e-4e45-bb9d-6700ed51b3ab",
   "metadata": {},
   "source": [
    "# MLflow  "
   ]
  },
  {
   "cell_type": "markdown",
   "id": "97d22c64-70b7-4a59-b9bb-251fcd8459d9",
   "metadata": {},
   "source": [
    "## 1. Get data using Feast  "
   ]
  },
  {
   "cell_type": "code",
   "execution_count": 28,
   "id": "18e47678-a7aa-4003-be1c-3ee6bcf8b27c",
   "metadata": {
    "tags": []
   },
   "outputs": [
    {
     "name": "stderr",
     "output_type": "stream",
     "text": [
      "/opt/conda/envs/iris_env_c/lib/python3.10/site-packages/feast/repo_config.py:268: DeprecationWarning: The serialization version 2 and below will be deprecated in the next release. Specifying `entity_key_serialization_version` to 3 is recommended.\n",
      "  warnings.warn(\n"
     ]
    },
    {
     "data": {
      "text/plain": [
       "((240, 7),\n",
       " Index(['flower_id', 'event_timestamp', 'species', 'sepal_length',\n",
       "        'sepal_width', 'petal_length', 'petal_width'],\n",
       "       dtype='object'),\n",
       "    flower_id           event_timestamp    species  sepal_length  sepal_width  \\\n",
       " 0        110 2023-12-31 23:59:59+00:00  virginica           6.8          3.0   \n",
       " 1        105 2023-12-31 23:59:59+00:00  virginica           6.7          3.3   \n",
       " 2         20 2023-12-31 23:59:59+00:00     setosa           4.6          3.2   \n",
       " 3        132 2023-12-31 23:59:59+00:00  virginica           6.9          3.1   \n",
       " 4          1 2023-12-31 23:59:59+00:00     setosa           4.6          3.6   \n",
       " \n",
       "    petal_length  petal_width  \n",
       " 0           5.5          2.1  \n",
       " 1           5.7          2.5  \n",
       " 2           1.4          0.2  \n",
       " 3           5.4          2.1  \n",
       " 4           1.0          0.2  )"
      ]
     },
     "execution_count": 28,
     "metadata": {},
     "output_type": "execute_result"
    }
   ],
   "source": [
    "from helpers.feast_utils import load_training_data\n",
    "\n",
    "train_df = load_training_data(from_year=2023, to_year=2024)\n",
    "train_df.shape, train_df.columns, train_df.head()"
   ]
  },
  {
   "cell_type": "markdown",
   "id": "9aa852ac-595f-418b-afbd-756a15df44f1",
   "metadata": {},
   "source": [
    "## 2. Track data with DVC  "
   ]
  },
  {
   "cell_type": "code",
   "execution_count": 23,
   "id": "a923e5e2-2149-4dcb-92e7-0fa5c04fcb0c",
   "metadata": {
    "tags": []
   },
   "outputs": [],
   "source": [
    "!pip install --quiet dvc dvc[gs]"
   ]
  },
  {
   "cell_type": "code",
   "execution_count": 24,
   "id": "409c73ce-bd45-45c9-a141-b49ecc786339",
   "metadata": {
    "tags": []
   },
   "outputs": [
    {
     "name": "stdout",
     "output_type": "stream",
     "text": [
      "\u001b[32mgcs_remote      \u001b[0m\u001b[32mgs://mlops-course-polar-pillar-461115-g2-week3  \u001b[0m\u001b[32m(default)\u001b[0m\n",
      "\u001b[0m"
     ]
    }
   ],
   "source": [
    "!dvc remote list"
   ]
  },
  {
   "cell_type": "code",
   "execution_count": 25,
   "id": "02078121-2512-4cbc-acf5-39e0aa5fd68a",
   "metadata": {
    "tags": []
   },
   "outputs": [
    {
     "name": "stdout",
     "output_type": "stream",
     "text": [
      "Collecting                                            |16.0 [00:00,  226entry/s]\n",
      "Pushing\n",
      "!\u001b[A\n",
      "  0% Querying remote cache|                          |0/4 [00:00<?,    ?files/s]\u001b[A\n",
      " 25% Querying remote cache|█████▎               |1/4 [00:00<00:00,  6.74files/s]\u001b[A\n",
      "                                                                                \u001b[A\n",
      "!\u001b[A\n",
      "  0% Querying remote cache|                          |0/0 [00:00<?,    ?files/s]\u001b[A\n",
      "Pushing                                                                         \u001b[A\n",
      "Everything is up to date.\n",
      "\u001b[0m"
     ]
    }
   ],
   "source": [
    "!dvc push"
   ]
  },
  {
   "cell_type": "code",
   "execution_count": null,
   "id": "d0d2bce9-848c-4d7b-b163-77af46caa1ee",
   "metadata": {},
   "outputs": [],
   "source": []
  },
  {
   "cell_type": "markdown",
   "id": "9388ab30-8c3d-4120-82ea-94472f664fbf",
   "metadata": {},
   "source": [
    "## 3. Track experiments with MLflow  "
   ]
  },
  {
   "cell_type": "code",
   "execution_count": null,
   "id": "13a17646-e1f5-4b31-8ed2-222ad43d7195",
   "metadata": {},
   "outputs": [],
   "source": []
  }
 ],
 "metadata": {
  "environment": {
   "kernel": "iris_env_c",
   "name": "workbench-notebooks.m129",
   "type": "gcloud",
   "uri": "us-docker.pkg.dev/deeplearning-platform-release/gcr.io/workbench-notebooks:m129"
  },
  "kernelspec": {
   "display_name": "Conda env iris_env_c",
   "language": "python",
   "name": "iris_env_c"
  },
  "language_info": {
   "codemirror_mode": {
    "name": "ipython",
    "version": 3
   },
   "file_extension": ".py",
   "mimetype": "text/x-python",
   "name": "python",
   "nbconvert_exporter": "python",
   "pygments_lexer": "ipython3",
   "version": "3.10.17"
  }
 },
 "nbformat": 4,
 "nbformat_minor": 5
}
