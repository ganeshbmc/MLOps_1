{
 "cells": [
  {
   "cell_type": "code",
   "execution_count": 42,
   "id": "2cd1d5d1-8970-41d8-a495-003b38f82eef",
   "metadata": {},
   "outputs": [
    {
     "name": "stdout",
     "output_type": "stream",
     "text": [
      "Note: you may need to restart the kernel to use updated packages.\n"
     ]
    }
   ],
   "source": [
    "%pip install -U --quiet feast 'feast[gcp]' protobuf==6.31.1"
   ]
  },
  {
   "cell_type": "code",
   "execution_count": 43,
   "id": "0f221e06-4b59-4be9-9a12-7e5d6645b777",
   "metadata": {
    "tags": []
   },
   "outputs": [],
   "source": [
    "import warnings\n",
    "warnings.filterwarnings(\"ignore\", category=UserWarning)\n",
    "warnings.filterwarnings(\"ignore\", category=DeprecationWarning)"
   ]
  },
  {
   "cell_type": "code",
   "execution_count": 44,
   "id": "3bb57922-1404-4128-ab4d-173c33d599a9",
   "metadata": {
    "tags": []
   },
   "outputs": [
    {
     "name": "stdout",
     "output_type": "stream",
     "text": [
      "/opt/conda/lib/python3.10/site-packages/google/protobuf/runtime_version.py:98: UserWarning: Protobuf gencode version 5.29.0 is exactly one major version older than the runtime version 6.31.1 at feast/types/Value.proto. Please update the gencode to avoid compatibility violations in the next runtime release.\n",
      "  warnings.warn(\n",
      "/opt/conda/lib/python3.10/site-packages/google/protobuf/runtime_version.py:98: UserWarning: Protobuf gencode version 5.29.0 is exactly one major version older than the runtime version 6.31.1 at feast/core/DataFormat.proto. Please update the gencode to avoid compatibility violations in the next runtime release.\n",
      "  warnings.warn(\n",
      "/opt/conda/lib/python3.10/site-packages/google/protobuf/runtime_version.py:98: UserWarning: Protobuf gencode version 5.29.0 is exactly one major version older than the runtime version 6.31.1 at feast/core/Feature.proto. Please update the gencode to avoid compatibility violations in the next runtime release.\n",
      "  warnings.warn(\n",
      "/opt/conda/lib/python3.10/site-packages/google/protobuf/runtime_version.py:98: UserWarning: Protobuf gencode version 5.29.0 is exactly one major version older than the runtime version 6.31.1 at feast/core/DataSource.proto. Please update the gencode to avoid compatibility violations in the next runtime release.\n",
      "  warnings.warn(\n",
      "/opt/conda/lib/python3.10/site-packages/google/protobuf/runtime_version.py:98: UserWarning: Protobuf gencode version 5.29.0 is exactly one major version older than the runtime version 6.31.1 at feast/core/Entity.proto. Please update the gencode to avoid compatibility violations in the next runtime release.\n",
      "  warnings.warn(\n",
      "/opt/conda/lib/python3.10/site-packages/google/protobuf/runtime_version.py:98: UserWarning: Protobuf gencode version 5.29.0 is exactly one major version older than the runtime version 6.31.1 at feast/types/EntityKey.proto. Please update the gencode to avoid compatibility violations in the next runtime release.\n",
      "  warnings.warn(\n",
      "/opt/conda/lib/python3.10/site-packages/google/protobuf/runtime_version.py:98: UserWarning: Protobuf gencode version 5.29.0 is exactly one major version older than the runtime version 6.31.1 at feast/serving/ServingService.proto. Please update the gencode to avoid compatibility violations in the next runtime release.\n",
      "  warnings.warn(\n",
      "/opt/conda/lib/python3.10/site-packages/google/protobuf/runtime_version.py:98: UserWarning: Protobuf gencode version 5.29.0 is exactly one major version older than the runtime version 6.31.1 at feast/core/FeatureViewProjection.proto. Please update the gencode to avoid compatibility violations in the next runtime release.\n",
      "  warnings.warn(\n",
      "/opt/conda/lib/python3.10/site-packages/google/protobuf/runtime_version.py:98: UserWarning: Protobuf gencode version 5.29.0 is exactly one major version older than the runtime version 6.31.1 at feast/core/FeatureView.proto. Please update the gencode to avoid compatibility violations in the next runtime release.\n",
      "  warnings.warn(\n",
      "/opt/conda/lib/python3.10/site-packages/google/protobuf/runtime_version.py:98: UserWarning: Protobuf gencode version 5.29.0 is exactly one major version older than the runtime version 6.31.1 at feast/core/OnDemandFeatureView.proto. Please update the gencode to avoid compatibility violations in the next runtime release.\n",
      "  warnings.warn(\n",
      "/opt/conda/lib/python3.10/site-packages/google/protobuf/runtime_version.py:98: UserWarning: Protobuf gencode version 5.29.0 is exactly one major version older than the runtime version 6.31.1 at feast/core/Transformation.proto. Please update the gencode to avoid compatibility violations in the next runtime release.\n",
      "  warnings.warn(\n",
      "/opt/conda/lib/python3.10/site-packages/google/protobuf/runtime_version.py:98: UserWarning: Protobuf gencode version 5.29.0 is exactly one major version older than the runtime version 6.31.1 at feast/core/StreamFeatureView.proto. Please update the gencode to avoid compatibility violations in the next runtime release.\n",
      "  warnings.warn(\n",
      "/opt/conda/lib/python3.10/site-packages/google/protobuf/runtime_version.py:98: UserWarning: Protobuf gencode version 5.29.0 is exactly one major version older than the runtime version 6.31.1 at feast/core/Aggregation.proto. Please update the gencode to avoid compatibility violations in the next runtime release.\n",
      "  warnings.warn(\n",
      "/opt/conda/lib/python3.10/site-packages/google/protobuf/runtime_version.py:98: UserWarning: Protobuf gencode version 5.29.0 is exactly one major version older than the runtime version 6.31.1 at feast/core/FeatureService.proto. Please update the gencode to avoid compatibility violations in the next runtime release.\n",
      "  warnings.warn(\n",
      "/opt/conda/lib/python3.10/site-packages/google/protobuf/runtime_version.py:98: UserWarning: Protobuf gencode version 5.29.0 is exactly one major version older than the runtime version 6.31.1 at feast/core/SavedDataset.proto. Please update the gencode to avoid compatibility violations in the next runtime release.\n",
      "  warnings.warn(\n",
      "/opt/conda/lib/python3.10/site-packages/google/protobuf/runtime_version.py:98: UserWarning: Protobuf gencode version 5.29.0 is exactly one major version older than the runtime version 6.31.1 at feast/core/ValidationProfile.proto. Please update the gencode to avoid compatibility violations in the next runtime release.\n",
      "  warnings.warn(\n",
      "/opt/conda/lib/python3.10/site-packages/google/protobuf/runtime_version.py:98: UserWarning: Protobuf gencode version 5.29.0 is exactly one major version older than the runtime version 6.31.1 at feast/core/Project.proto. Please update the gencode to avoid compatibility violations in the next runtime release.\n",
      "  warnings.warn(\n",
      "/opt/conda/lib/python3.10/site-packages/google/protobuf/runtime_version.py:98: UserWarning: Protobuf gencode version 5.29.0 is exactly one major version older than the runtime version 6.31.1 at feast/core/Policy.proto. Please update the gencode to avoid compatibility violations in the next runtime release.\n",
      "  warnings.warn(\n",
      "/opt/conda/lib/python3.10/site-packages/google/protobuf/runtime_version.py:98: UserWarning: Protobuf gencode version 5.29.0 is exactly one major version older than the runtime version 6.31.1 at feast/core/Permission.proto. Please update the gencode to avoid compatibility violations in the next runtime release.\n",
      "  warnings.warn(\n",
      "/opt/conda/lib/python3.10/site-packages/google/protobuf/runtime_version.py:98: UserWarning: Protobuf gencode version 5.29.0 is exactly one major version older than the runtime version 6.31.1 at feast/core/DatastoreTable.proto. Please update the gencode to avoid compatibility violations in the next runtime release.\n",
      "  warnings.warn(\n",
      "Feast SDK Version: \"0.49.0\"\n"
     ]
    }
   ],
   "source": [
    "!feast version"
   ]
  },
  {
   "cell_type": "markdown",
   "id": "b0facac5-0883-4d54-9d61-c10d7ca08afb",
   "metadata": {},
   "source": [
    "## Authentication into GCP  \n",
    "\n",
    "* Not needed  "
   ]
  },
  {
   "cell_type": "code",
   "execution_count": null,
   "id": "7b1ca428-d8c0-42be-bbde-8453fbb19d97",
   "metadata": {
    "tags": []
   },
   "outputs": [],
   "source": [
    "# from google.colab import auth\n",
    "# auth.authenticate_user()"
   ]
  },
  {
   "cell_type": "code",
   "execution_count": 45,
   "id": "09c0464b-d063-4ecd-9ad2-6930cc0a8b57",
   "metadata": {
    "tags": []
   },
   "outputs": [
    {
     "name": "stdout",
     "output_type": "stream",
     "text": [
      "Updated property [core/project].\n",
      "env: GOOGLE_CLOUD_PROJECT=polar-pillar-461115-g2\n"
     ]
    }
   ],
   "source": [
    "PROJECT_ID = \"polar-pillar-461115-g2\"  # @param {type:\"string\"}\n",
    "BUCKET_NAME = \"mlops-course-polar-pillar-461115-g2-week3\"  # @param {type:\"string\"} custom\n",
    "BIGQUERY_DATASET_NAME = \"feast_iris\"  # @param {type:\"string\"} custom\n",
    "AI_PLATFORM_MODEL_NAME = \"feast_iris_model\"  # @param {type:\"string\"} \n",
    "\n",
    "!gcloud config set project $PROJECT_ID\n",
    "%env GOOGLE_CLOUD_PROJECT=$PROJECT_ID\n",
    "!echo project_id = $PROJECT_ID > ~/.bigqueryrc"
   ]
  },
  {
   "cell_type": "code",
   "execution_count": 46,
   "id": "e95c0710-06bf-44ed-88d9-8b06de15a84d",
   "metadata": {
    "tags": []
   },
   "outputs": [
    {
     "name": "stdout",
     "output_type": "stream",
     "text": [
      "Creating gs://mlops-course-polar-pillar-461115-g2-week3/...\n",
      "ServiceException: 409 A Cloud Storage bucket named 'mlops-course-polar-pillar-461115-g2-week3' already exists. Try another name. Bucket names must be globally unique across all Google Cloud projects, including those outside of your organization.\n"
     ]
    }
   ],
   "source": [
    "# Only run if your bucket does not already exist  \n",
    "\n",
    "!gsutil mb gs://$BUCKET_NAME"
   ]
  },
  {
   "cell_type": "markdown",
   "id": "f78d6cfe-3990-4b01-8252-0c3ba26765eb",
   "metadata": {},
   "source": [
    "## Apply and deploy feature definitions  "
   ]
  },
  {
   "cell_type": "code",
   "execution_count": 47,
   "id": "60c22f40-7bb4-4cfb-9f7c-705a42a5c939",
   "metadata": {
    "tags": []
   },
   "outputs": [
    {
     "name": "stdout",
     "output_type": "stream",
     "text": [
      "Current working directory: /home/jupyter/iris_pipeline\n"
     ]
    }
   ],
   "source": [
    "import os\n",
    "\n",
    "# Change directory\n",
    "os.chdir('/home/jupyter/iris_pipeline')  # replace with your aimed path\n",
    "\n",
    "# Verify change\n",
    "print(\"Current working directory:\", os.getcwd())"
   ]
  },
  {
   "cell_type": "code",
   "execution_count": 48,
   "id": "7bf7c356-ae4a-4877-8a44-9d1fe45b2b06",
   "metadata": {
    "tags": []
   },
   "outputs": [
    {
     "name": "stdout",
     "output_type": "stream",
     "text": [
      "/home/jupyter/iris_pipeline\n"
     ]
    }
   ],
   "source": [
    "!pwd"
   ]
  },
  {
   "cell_type": "code",
   "execution_count": 50,
   "id": "600727a0-12c1-4119-931f-48d75001b8cc",
   "metadata": {
    "tags": []
   },
   "outputs": [],
   "source": [
    "import pandas as pd\n",
    "\n",
    "# Load, convert timestamps, and overwrite parquet\n",
    "for fname in [\"iris_sepal.csv\", \"iris_petal.csv\"]:\n",
    "    df = pd.read_csv(f\"data/{fname}\")\n",
    "    df[\"event_timestamp\"] = pd.to_datetime(df[\"event_timestamp\"], utc=True)\n",
    "    df.to_parquet(f\"data/{fname.replace('.csv', '.parquet')}\", index=False)\n"
   ]
  },
  {
   "cell_type": "markdown",
   "id": "bbc6c67e-b8db-41a7-9983-24dd3e19fc9d",
   "metadata": {
    "tags": []
   },
   "source": [
    "## Set up and Apply Feast  "
   ]
  },
  {
   "cell_type": "markdown",
   "id": "c0446579-c868-4d05-915b-c42aea91cdd6",
   "metadata": {
    "tags": []
   },
   "source": [
    "- Essential files in `feast_iris` folder  "
   ]
  },
  {
   "cell_type": "code",
   "execution_count": 52,
   "id": "47216bf9-61a6-4448-9134-9a7dca2d0be8",
   "metadata": {},
   "outputs": [
    {
     "name": "stdout",
     "output_type": "stream",
     "text": [
      "/opt/conda/lib/python3.10/site-packages/google/protobuf/runtime_version.py:98: UserWarning: Protobuf gencode version 5.29.0 is exactly one major version older than the runtime version 6.31.1 at feast/types/Value.proto. Please update the gencode to avoid compatibility violations in the next runtime release.\n",
      "  warnings.warn(\n",
      "/opt/conda/lib/python3.10/site-packages/google/protobuf/runtime_version.py:98: UserWarning: Protobuf gencode version 5.29.0 is exactly one major version older than the runtime version 6.31.1 at feast/core/DataFormat.proto. Please update the gencode to avoid compatibility violations in the next runtime release.\n",
      "  warnings.warn(\n",
      "/opt/conda/lib/python3.10/site-packages/google/protobuf/runtime_version.py:98: UserWarning: Protobuf gencode version 5.29.0 is exactly one major version older than the runtime version 6.31.1 at feast/core/Feature.proto. Please update the gencode to avoid compatibility violations in the next runtime release.\n",
      "  warnings.warn(\n",
      "/opt/conda/lib/python3.10/site-packages/google/protobuf/runtime_version.py:98: UserWarning: Protobuf gencode version 5.29.0 is exactly one major version older than the runtime version 6.31.1 at feast/core/DataSource.proto. Please update the gencode to avoid compatibility violations in the next runtime release.\n",
      "  warnings.warn(\n",
      "/opt/conda/lib/python3.10/site-packages/google/protobuf/runtime_version.py:98: UserWarning: Protobuf gencode version 5.29.0 is exactly one major version older than the runtime version 6.31.1 at feast/core/Entity.proto. Please update the gencode to avoid compatibility violations in the next runtime release.\n",
      "  warnings.warn(\n",
      "/opt/conda/lib/python3.10/site-packages/google/protobuf/runtime_version.py:98: UserWarning: Protobuf gencode version 5.29.0 is exactly one major version older than the runtime version 6.31.1 at feast/types/EntityKey.proto. Please update the gencode to avoid compatibility violations in the next runtime release.\n",
      "  warnings.warn(\n",
      "/opt/conda/lib/python3.10/site-packages/google/protobuf/runtime_version.py:98: UserWarning: Protobuf gencode version 5.29.0 is exactly one major version older than the runtime version 6.31.1 at feast/serving/ServingService.proto. Please update the gencode to avoid compatibility violations in the next runtime release.\n",
      "  warnings.warn(\n",
      "/opt/conda/lib/python3.10/site-packages/google/protobuf/runtime_version.py:98: UserWarning: Protobuf gencode version 5.29.0 is exactly one major version older than the runtime version 6.31.1 at feast/core/FeatureViewProjection.proto. Please update the gencode to avoid compatibility violations in the next runtime release.\n",
      "  warnings.warn(\n",
      "/opt/conda/lib/python3.10/site-packages/google/protobuf/runtime_version.py:98: UserWarning: Protobuf gencode version 5.29.0 is exactly one major version older than the runtime version 6.31.1 at feast/core/FeatureView.proto. Please update the gencode to avoid compatibility violations in the next runtime release.\n",
      "  warnings.warn(\n",
      "/opt/conda/lib/python3.10/site-packages/google/protobuf/runtime_version.py:98: UserWarning: Protobuf gencode version 5.29.0 is exactly one major version older than the runtime version 6.31.1 at feast/core/OnDemandFeatureView.proto. Please update the gencode to avoid compatibility violations in the next runtime release.\n",
      "  warnings.warn(\n",
      "/opt/conda/lib/python3.10/site-packages/google/protobuf/runtime_version.py:98: UserWarning: Protobuf gencode version 5.29.0 is exactly one major version older than the runtime version 6.31.1 at feast/core/Transformation.proto. Please update the gencode to avoid compatibility violations in the next runtime release.\n",
      "  warnings.warn(\n",
      "/opt/conda/lib/python3.10/site-packages/google/protobuf/runtime_version.py:98: UserWarning: Protobuf gencode version 5.29.0 is exactly one major version older than the runtime version 6.31.1 at feast/core/StreamFeatureView.proto. Please update the gencode to avoid compatibility violations in the next runtime release.\n",
      "  warnings.warn(\n",
      "/opt/conda/lib/python3.10/site-packages/google/protobuf/runtime_version.py:98: UserWarning: Protobuf gencode version 5.29.0 is exactly one major version older than the runtime version 6.31.1 at feast/core/Aggregation.proto. Please update the gencode to avoid compatibility violations in the next runtime release.\n",
      "  warnings.warn(\n",
      "/opt/conda/lib/python3.10/site-packages/google/protobuf/runtime_version.py:98: UserWarning: Protobuf gencode version 5.29.0 is exactly one major version older than the runtime version 6.31.1 at feast/core/FeatureService.proto. Please update the gencode to avoid compatibility violations in the next runtime release.\n",
      "  warnings.warn(\n",
      "/opt/conda/lib/python3.10/site-packages/google/protobuf/runtime_version.py:98: UserWarning: Protobuf gencode version 5.29.0 is exactly one major version older than the runtime version 6.31.1 at feast/core/SavedDataset.proto. Please update the gencode to avoid compatibility violations in the next runtime release.\n",
      "  warnings.warn(\n",
      "/opt/conda/lib/python3.10/site-packages/google/protobuf/runtime_version.py:98: UserWarning: Protobuf gencode version 5.29.0 is exactly one major version older than the runtime version 6.31.1 at feast/core/ValidationProfile.proto. Please update the gencode to avoid compatibility violations in the next runtime release.\n",
      "  warnings.warn(\n",
      "/opt/conda/lib/python3.10/site-packages/google/protobuf/runtime_version.py:98: UserWarning: Protobuf gencode version 5.29.0 is exactly one major version older than the runtime version 6.31.1 at feast/core/Project.proto. Please update the gencode to avoid compatibility violations in the next runtime release.\n",
      "  warnings.warn(\n",
      "/opt/conda/lib/python3.10/site-packages/google/protobuf/runtime_version.py:98: UserWarning: Protobuf gencode version 5.29.0 is exactly one major version older than the runtime version 6.31.1 at feast/core/Policy.proto. Please update the gencode to avoid compatibility violations in the next runtime release.\n",
      "  warnings.warn(\n",
      "/opt/conda/lib/python3.10/site-packages/google/protobuf/runtime_version.py:98: UserWarning: Protobuf gencode version 5.29.0 is exactly one major version older than the runtime version 6.31.1 at feast/core/Permission.proto. Please update the gencode to avoid compatibility violations in the next runtime release.\n",
      "  warnings.warn(\n",
      "/opt/conda/lib/python3.10/site-packages/google/protobuf/runtime_version.py:98: UserWarning: Protobuf gencode version 5.29.0 is exactly one major version older than the runtime version 6.31.1 at feast/core/DatastoreTable.proto. Please update the gencode to avoid compatibility violations in the next runtime release.\n",
      "  warnings.warn(\n",
      "/opt/conda/lib/python3.10/site-packages/pydantic/_internal/_fields.py:192: UserWarning: Field name \"vector_enabled\" in \"SqliteOnlineStoreConfig\" shadows an attribute in parent \"VectorStoreConfig\"\n",
      "  warnings.warn(\n",
      "/opt/conda/lib/python3.10/site-packages/feast/repo_config.py:268: DeprecationWarning: The serialization version 2 and below will be deprecated in the next release. Specifying `entity_key_serialization_version` to 3 is recommended.\n",
      "  warnings.warn(\n",
      "No project found in the repository. Using project name feast_iris_project defined in feature_store.yaml\n",
      "Applying changes for project feast_iris_project\n",
      "\u001b[1m\u001b[94mNo changes to registry\n",
      "\u001b[1m\u001b[94mNo changes to infrastructure\n"
     ]
    }
   ],
   "source": [
    "!cd feast_iris/ && feast apply"
   ]
  },
  {
   "cell_type": "code",
   "execution_count": 53,
   "id": "66a575a3-00a6-4647-8409-1422340e7fee",
   "metadata": {
    "tags": []
   },
   "outputs": [
    {
     "name": "stdout",
     "output_type": "stream",
     "text": [
      "total 164K\n",
      "-rw-r--r-- 1 jupyter jupyter 5.3K Jun  1 18:18 iris.csv\n",
      "-rw-r--r-- 1 jupyter jupyter 9.7K Jun 20 20:35 iris_entity.csv\n",
      "drwxr-xr-x 8 jupyter jupyter 4.0K Jun 20 21:16 ..\n",
      "-rw-r--r-- 1 jupyter jupyter  14K Jun 20 22:43 iris_sepal.csv\n",
      "-rw-r--r-- 1 jupyter jupyter  14K Jun 20 22:43 iris_petal.csv\n",
      "-rw-r--r-- 1 jupyter jupyter  60K Jun 20 22:46 online_store.db\n",
      "drwxr-xr-x 3 jupyter jupyter 4.0K Jun 22 04:22 .\n",
      "drwxr-xr-x 2 jupyter jupyter 4.0K Jun 22 04:22 .ipynb_checkpoints\n",
      "-rw-r--r-- 1 jupyter jupyter 5.2K Jun 22 04:23 online_features_iris.csv\n",
      "-rw-r--r-- 1 jupyter jupyter  11K Jun 22 04:58 iris_sepal.parquet\n",
      "-rw-r--r-- 1 jupyter jupyter  11K Jun 22 04:58 iris_petal.parquet\n",
      "-rw-r--r-- 1 jupyter jupyter 1.6K Jun 22 05:01 registry.db\n"
     ]
    }
   ],
   "source": [
    "# Inspect the files created under the local folder\n",
    "\n",
    "! ls -larth data\n",
    "\n",
    "# Two new files are created under the data folder: online_store.db and registry.db"
   ]
  },
  {
   "cell_type": "markdown",
   "id": "cf5c0693-d472-47dd-bcbd-992e018099cc",
   "metadata": {},
   "source": [
    "# Feast in action    "
   ]
  },
  {
   "cell_type": "markdown",
   "id": "ec9ceab7-bd4b-46a3-92fa-f9db5a58656d",
   "metadata": {},
   "source": [
    "### STEPS  \n",
    "#### Step 1: Get Historical Features \n",
    "    - get_historical_features()  # with 2023–2024 data\n",
    "#### Step 2: Train and save a ML model on historical train \n",
    "    - train + joblib.save()\n",
    "#### Step 3: Materialize 2025 data \n",
    "    - materialize(from, to) or materialize_incremental()  # for 2025 data\n",
    "#### Step 4: Get Online Features, use trained model to predict \n",
    "    - get_online_features() + joblib.load() + predict"
   ]
  },
  {
   "cell_type": "markdown",
   "id": "28987f45-97c4-4c20-ab20-08002177614a",
   "metadata": {},
   "source": [
    "## Step 1: get_historical_features()  # with 2023–2024 data"
   ]
  },
  {
   "cell_type": "code",
   "execution_count": null,
   "id": "debe41fc-b9ed-4afc-abeb-30b55a9e94bc",
   "metadata": {
    "tags": []
   },
   "outputs": [],
   "source": [
    "# List all feature views in your registry\n",
    "# store.list_feature_views()"
   ]
  },
  {
   "cell_type": "code",
   "execution_count": 55,
   "id": "6c42dac0-bd1f-4854-a799-a1f66f47de9f",
   "metadata": {
    "tags": []
   },
   "outputs": [
    {
     "name": "stdout",
     "output_type": "stream",
     "text": [
      "Entity DataFrame for Training:\n",
      "   flower_id           event_timestamp species\n",
      "0          1 2023-12-31 23:59:59+00:00  setosa\n",
      "1          2 2023-12-31 23:59:59+00:00  setosa\n",
      "2          3 2023-12-31 23:59:59+00:00  setosa\n",
      "3          4 2023-12-31 23:59:59+00:00  setosa\n",
      "4          5 2023-12-31 23:59:59+00:00  setosa\n"
     ]
    }
   ],
   "source": [
    "from feast import FeatureStore\n",
    "import pandas as pd\n",
    "\n",
    "# Initialize FeatureStore\n",
    "store = FeatureStore(repo_path=\"feast_iris\")\n",
    "# store.apply()  # Feast apply already ran in the cell above\n",
    "\n",
    "# Load entity_df (used to retrieve historical features)\n",
    "entity_df = pd.read_csv(\"data/iris_entity.csv\")\n",
    "entity_df[\"event_timestamp\"] = pd.to_datetime(entity_df[\"event_timestamp\"], utc=True)\n",
    "\n",
    "entity_df_train = entity_df[\n",
    "    (entity_df[\"event_timestamp\"].dt.year >= 2023) &\n",
    "    (entity_df[\"event_timestamp\"].dt.year <= 2024)\n",
    "]\n",
    "\n",
    "# Optionally inspect entity_df\n",
    "print(f\"Entity DataFrame for Training:\\n{entity_df_train.head()}\")\n",
    "\n",
    "# Define list of features to retrieve from both feature views\n",
    "feature_refs = [\n",
    "    \"sepal_features:sepal_length\",\n",
    "    \"sepal_features:sepal_width\",\n",
    "    \"petal_features:petal_length\",\n",
    "    \"petal_features:petal_width\"\n",
    "]\n",
    "\n",
    "# Retrieve historical features\n",
    "training_df = store.get_historical_features(\n",
    "    entity_df=entity_df_train,\n",
    "    features=feature_refs\n",
    ").to_df()\n",
    "\n",
    "# Save for reference\n",
    "training_df.to_csv(\"feast_iris/training_df.csv\", index=False)"
   ]
  },
  {
   "cell_type": "code",
   "execution_count": 56,
   "id": "96637b11-8793-48b7-b70a-4b4c32d160b5",
   "metadata": {
    "tags": []
   },
   "outputs": [
    {
     "name": "stdout",
     "output_type": "stream",
     "text": [
      "----- Feature schema -----\n",
      "\n",
      "<class 'pandas.core.frame.DataFrame'>\n",
      "RangeIndex: 240 entries, 0 to 239\n",
      "Data columns (total 7 columns):\n",
      " #   Column           Non-Null Count  Dtype              \n",
      "---  ------           --------------  -----              \n",
      " 0   flower_id        240 non-null    int64              \n",
      " 1   event_timestamp  240 non-null    datetime64[ns, UTC]\n",
      " 2   species          240 non-null    object             \n",
      " 3   sepal_length     240 non-null    float64            \n",
      " 4   sepal_width      240 non-null    float64            \n",
      " 5   petal_length     240 non-null    float64            \n",
      " 6   petal_width      240 non-null    float64            \n",
      "dtypes: datetime64[ns, UTC](1), float64(4), int64(1), object(1)\n",
      "memory usage: 13.2+ KB\n",
      "None\n",
      "\n",
      "----- Example features -----\n",
      "\n",
      "   flower_id           event_timestamp    species  sepal_length  sepal_width  \\\n",
      "0        110 2023-12-31 23:59:59+00:00  virginica           6.8          3.0   \n",
      "1        105 2023-12-31 23:59:59+00:00  virginica           6.7          3.3   \n",
      "2         20 2023-12-31 23:59:59+00:00     setosa           4.6          3.2   \n",
      "3        132 2023-12-31 23:59:59+00:00  virginica           6.9          3.1   \n",
      "4          1 2023-12-31 23:59:59+00:00     setosa           4.6          3.6   \n",
      "\n",
      "   petal_length  petal_width  \n",
      "0           5.5          2.1  \n",
      "1           5.7          2.5  \n",
      "2           1.4          0.2  \n",
      "3           5.4          2.1  \n",
      "4           1.0          0.2  \n"
     ]
    }
   ],
   "source": [
    "print(\"----- Feature schema -----\\n\")\n",
    "print(training_df.info())\n",
    "\n",
    "print()\n",
    "print(\"----- Example features -----\\n\")\n",
    "print(training_df.head())\n",
    "\n",
    "# training_df will have only 240 rows out of 300 from the original entity_df"
   ]
  },
  {
   "cell_type": "markdown",
   "id": "7a3943ac-6b0c-4402-8f5d-3b0ecb19df0a",
   "metadata": {},
   "source": [
    " ### Step 2: Train model  "
   ]
  },
  {
   "cell_type": "code",
   "execution_count": 57,
   "id": "306bf55a-7873-47d4-8426-c8aa8a6bafce",
   "metadata": {
    "tags": []
   },
   "outputs": [
    {
     "name": "stdout",
     "output_type": "stream",
     "text": [
      "CV (5-fold) Accuracy: 0.9791 ± 0.0197\n",
      "\n",
      "Validation Classification Report:\n",
      "              precision    recall  f1-score   support\n",
      "\n",
      "      setosa       1.00      1.00      1.00        16\n",
      "  versicolor       0.83      0.94      0.88        16\n",
      "   virginica       0.93      0.81      0.87        16\n",
      "\n",
      "    accuracy                           0.92        48\n",
      "   macro avg       0.92      0.92      0.92        48\n",
      "weighted avg       0.92      0.92      0.92        48\n",
      "\n"
     ]
    },
    {
     "data": {
      "text/plain": [
       "['artifacts/feast_iris_model.joblib']"
      ]
     },
     "execution_count": 57,
     "metadata": {},
     "output_type": "execute_result"
    }
   ],
   "source": [
    "from sklearn.ensemble import RandomForestClassifier\n",
    "from sklearn.model_selection import train_test_split, cross_val_score\n",
    "from sklearn.preprocessing import LabelEncoder\n",
    "from sklearn.metrics import classification_report\n",
    "import joblib\n",
    "import pandas as pd\n",
    "\n",
    "# Load training dataframe\n",
    "training_df = pd.read_csv(\"feast_iris/training_df.csv\")\n",
    "\n",
    "# Features and target\n",
    "X = training_df[[\"sepal_length\", \"sepal_width\", \"petal_length\", \"petal_width\"]]\n",
    "y = training_df[\"species\"]\n",
    "\n",
    "# Encode species labels if needed\n",
    "label_encoder = LabelEncoder()\n",
    "y_encoded = label_encoder.fit_transform(y)\n",
    "\n",
    "# Save the label encoder\n",
    "joblib.dump(label_encoder, \"artifacts/feast_iris_label_encoder.joblib\")\n",
    "\n",
    "# Train-validation split\n",
    "X_train, X_val, y_train, y_val = train_test_split(\n",
    "    X, y_encoded, test_size=0.2, random_state=42, stratify=y_encoded\n",
    ")\n",
    "\n",
    "# Initialize classifier\n",
    "clf = RandomForestClassifier(random_state=42)\n",
    "\n",
    "# Cross-validation on training set\n",
    "cv_scores = cross_val_score(clf, X_train, y_train, cv=5)\n",
    "print(f\"CV (5-fold) Accuracy: {cv_scores.mean():.4f} ± {cv_scores.std():.4f}\")\n",
    "\n",
    "# Train on full training set\n",
    "clf.fit(X_train, y_train)\n",
    "\n",
    "# Evaluate on validation set\n",
    "y_pred = clf.predict(X_val)\n",
    "print(\"\\nValidation Classification Report:\")\n",
    "print(classification_report(y_val, y_pred, target_names=label_encoder.classes_))\n",
    "\n",
    "# Save the trained model\n",
    "joblib.dump(clf, \"artifacts/feast_iris_model.joblib\")\n"
   ]
  },
  {
   "cell_type": "markdown",
   "id": "a4ba6799-b7aa-4685-be86-bd5bd12ec530",
   "metadata": {},
   "source": [
    "### Step 3: Materialize 2025 data to Online Store  "
   ]
  },
  {
   "cell_type": "code",
   "execution_count": 58,
   "id": "69e0b738-75be-4a49-a30e-5588ad1f5c5f",
   "metadata": {
    "tags": []
   },
   "outputs": [
    {
     "name": "stdout",
     "output_type": "stream",
     "text": [
      "Materializing \u001b[1m\u001b[32m2\u001b[0m feature views from \u001b[1m\u001b[32m2025-01-01 00:00:00+00:00\u001b[0m to \u001b[1m\u001b[32m2025-12-31 00:00:00+00:00\u001b[0m into the \u001b[1m\u001b[32msqlite\u001b[0m online store.\n",
      "\n",
      "\u001b[1m\u001b[32mpetal_features\u001b[0m:\n"
     ]
    },
    {
     "name": "stderr",
     "output_type": "stream",
     "text": [
      "100%|████████████████████████████████████████████████████████████| 60/60 [00:00<00:00, 10129.95it/s]\n"
     ]
    },
    {
     "name": "stdout",
     "output_type": "stream",
     "text": [
      "\u001b[1m\u001b[32msepal_features\u001b[0m:\n"
     ]
    },
    {
     "name": "stderr",
     "output_type": "stream",
     "text": [
      "100%|█████████████████████████████████████████████████████████████| 60/60 [00:00<00:00, 8939.58it/s]\n"
     ]
    }
   ],
   "source": [
    "from feast import FeatureStore\n",
    "from datetime import datetime\n",
    "\n",
    "# # Initialize Feast feature store\n",
    "# store = FeatureStore(repo_path=\"feast_iris\")\n",
    "\n",
    "# Materialize only 2025 data to online store\n",
    "store.materialize(\n",
    "    start_date=datetime(2025, 1, 1),\n",
    "    end_date=datetime(2025, 12, 31)\n",
    ")\n",
    "\n",
    "\n",
    "# Alternatively, materialize incrementally\n",
    "# This loads feature values into the online store up to end of 2025\n",
    "\n",
    "# store.materialize_incremental(end_date=datetime(2025, 12, 31))"
   ]
  },
  {
   "cell_type": "markdown",
   "id": "aa4cea25-83c6-4564-af02-42d873114992",
   "metadata": {},
   "source": [
    "### Step 4: Online prediction for 2025 data  "
   ]
  },
  {
   "cell_type": "code",
   "execution_count": 59,
   "id": "3e0fd041-3a47-4920-8e77-49a2e82206b3",
   "metadata": {
    "tags": []
   },
   "outputs": [
    {
     "name": "stdout",
     "output_type": "stream",
     "text": [
      "<class 'pandas.core.frame.DataFrame'>\n",
      "RangeIndex: 60 entries, 0 to 59\n",
      "Data columns (total 6 columns):\n",
      " #   Column           Non-Null Count  Dtype  \n",
      "---  ------           --------------  -----  \n",
      " 0   flower_id        60 non-null     int64  \n",
      " 1   sepal_length     60 non-null     float64\n",
      " 2   sepal_width      60 non-null     float64\n",
      " 3   petal_width      60 non-null     float64\n",
      " 4   petal_length     60 non-null     float64\n",
      " 5   predicted_label  60 non-null     object \n",
      "dtypes: float64(4), int64(1), object(1)\n",
      "memory usage: 2.9+ KB\n",
      "None    flower_id  sepal_length  sepal_width  petal_width  petal_length  \\\n",
      "0        241      5.124007     3.414618     0.297925      1.413890   \n",
      "1        242      5.091912     3.495279     0.338587      1.533552   \n",
      "2        243      4.897901     2.974365     0.098859      1.579757   \n",
      "3        244      5.227264     4.075287     0.030783      1.420465   \n",
      "4        245      4.652927     3.555841     0.235786      0.948662   \n",
      "\n",
      "  predicted_label  \n",
      "0          setosa  \n",
      "1          setosa  \n",
      "2          setosa  \n",
      "3          setosa  \n",
      "4          setosa  \n"
     ]
    }
   ],
   "source": [
    "# Load model\n",
    "clf = joblib.load(\"artifacts/feast_iris_model.joblib\")\n",
    "label_encoder = joblib.load(\"artifacts/feast_iris_label_encoder.joblib\")\n",
    "\n",
    "# Prepare 2025 entity rows\n",
    "entity_df_2025 = entity_df[entity_df[\"event_timestamp\"].dt.year == 2025]\n",
    "entity_rows = entity_df_2025[[\"flower_id\"]].drop_duplicates().to_dict(orient=\"records\")\n",
    "\n",
    "# Get online features\n",
    "online_features = store.get_online_features(\n",
    "    features=feature_refs,\n",
    "    entity_rows=entity_rows\n",
    ").to_df()\n",
    "\n",
    "# Predict\n",
    "X_online = online_features[[\n",
    "    \"sepal_length\", \"sepal_width\", \"petal_length\", \"petal_width\"\n",
    "]]\n",
    "preds = clf.predict(X_online)\n",
    "decoded_preds = label_encoder.inverse_transform(preds)\n",
    "\n",
    "# Attach predictions\n",
    "online_features[\"predicted_label\"] = decoded_preds\n",
    "print(online_features.info(), online_features.head())\n",
    "\n",
    "# Export to csv\n",
    "online_features.to_csv(\"data/online_features_iris.csv\", index=False)"
   ]
  },
  {
   "cell_type": "markdown",
   "id": "baea6df9-3873-420a-8b27-f243a3d439e7",
   "metadata": {},
   "source": [
    "### Step 5: Evaluate predictions (Optional - Sanity check)"
   ]
  },
  {
   "cell_type": "code",
   "execution_count": 60,
   "id": "d0bb40b8-974b-4a8f-9c54-8502d98c5fd8",
   "metadata": {
    "tags": []
   },
   "outputs": [
    {
     "name": "stdout",
     "output_type": "stream",
     "text": [
      "              precision    recall  f1-score   support\n",
      "\n",
      "      setosa       1.00      1.00      1.00        20\n",
      "  versicolor       0.95      0.90      0.92        20\n",
      "   virginica       0.90      0.95      0.93        20\n",
      "\n",
      "    accuracy                           0.95        60\n",
      "   macro avg       0.95      0.95      0.95        60\n",
      "weighted avg       0.95      0.95      0.95        60\n",
      "\n",
      "   flower_id species predicted_label\n",
      "0        241  setosa          setosa\n",
      "1        242  setosa          setosa\n",
      "2        243  setosa          setosa\n",
      "3        244  setosa          setosa\n",
      "4        245  setosa          setosa\n",
      "\n",
      "    flower_id    species predicted_label\n",
      "55        296  virginica       virginica\n",
      "56        297  virginica       virginica\n",
      "57        298  virginica       virginica\n",
      "58        299  virginica       virginica\n",
      "59        300  virginica       virginica\n"
     ]
    }
   ],
   "source": [
    "# Merge true labels for evaluation\n",
    "true_labels = entity_df_2025[[\"flower_id\", \"species\"]].drop_duplicates()\n",
    "merged = online_features.merge(true_labels, on=\"flower_id\", how=\"inner\")\n",
    "\n",
    "# Encode true labels\n",
    "y_true = label_encoder.transform(merged[\"species\"])\n",
    "y_pred = label_encoder.transform(merged[\"predicted_label\"])\n",
    "\n",
    "# Print classification report\n",
    "print(classification_report(y_true, y_pred, target_names=label_encoder.classes_))\n",
    "\n",
    "# Optionally print or return merged DataFrame\n",
    "print(merged[[\"flower_id\", \"species\", \"predicted_label\"]].head(), merged[[\"flower_id\", \"species\", \"predicted_label\"]].tail(), sep=\"\\n\\n\")"
   ]
  },
  {
   "cell_type": "code",
   "execution_count": null,
   "id": "ad6e7f24-a05e-4723-b115-d272bbd1e5af",
   "metadata": {},
   "outputs": [],
   "source": []
  }
 ],
 "metadata": {
  "environment": {
   "kernel": "iris_env_c",
   "name": "workbench-notebooks.m129",
   "type": "gcloud",
   "uri": "us-docker.pkg.dev/deeplearning-platform-release/gcr.io/workbench-notebooks:m129"
  },
  "kernelspec": {
   "display_name": "Conda env iris_env_c",
   "language": "python",
   "name": "iris_env_c"
  },
  "language_info": {
   "codemirror_mode": {
    "name": "ipython",
    "version": 3
   },
   "file_extension": ".py",
   "mimetype": "text/x-python",
   "name": "python",
   "nbconvert_exporter": "python",
   "pygments_lexer": "ipython3",
   "version": "3.10.17"
  }
 },
 "nbformat": 4,
 "nbformat_minor": 5
}
