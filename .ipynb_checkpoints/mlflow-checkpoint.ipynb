{
 "cells": [
  {
   "cell_type": "markdown",
   "id": "6dfbadf4-924e-4e45-bb9d-6700ed51b3ab",
   "metadata": {},
   "source": [
    "# MLflow  "
   ]
  },
  {
   "cell_type": "markdown",
   "id": "97d22c64-70b7-4a59-b9bb-251fcd8459d9",
   "metadata": {},
   "source": [
    "## 1. Get data using Feast  "
   ]
  },
  {
   "cell_type": "code",
   "execution_count": 1,
   "id": "7b8297ad-ad9b-4b95-9e70-1b8a4027cbad",
   "metadata": {
    "tags": []
   },
   "outputs": [
    {
     "name": "stderr",
     "output_type": "stream",
     "text": [
      "/opt/conda/envs/iris_env_c/lib/python3.10/site-packages/google/protobuf/runtime_version.py:98: UserWarning: Protobuf gencode version 5.29.0 is exactly one major version older than the runtime version 6.31.1 at feast/types/Value.proto. Please update the gencode to avoid compatibility violations in the next runtime release.\n",
      "  warnings.warn(\n",
      "/opt/conda/envs/iris_env_c/lib/python3.10/site-packages/google/protobuf/runtime_version.py:98: UserWarning: Protobuf gencode version 5.29.0 is exactly one major version older than the runtime version 6.31.1 at feast/core/DataFormat.proto. Please update the gencode to avoid compatibility violations in the next runtime release.\n",
      "  warnings.warn(\n",
      "/opt/conda/envs/iris_env_c/lib/python3.10/site-packages/google/protobuf/runtime_version.py:98: UserWarning: Protobuf gencode version 5.29.0 is exactly one major version older than the runtime version 6.31.1 at feast/core/Feature.proto. Please update the gencode to avoid compatibility violations in the next runtime release.\n",
      "  warnings.warn(\n",
      "/opt/conda/envs/iris_env_c/lib/python3.10/site-packages/google/protobuf/runtime_version.py:98: UserWarning: Protobuf gencode version 5.29.0 is exactly one major version older than the runtime version 6.31.1 at feast/core/DataSource.proto. Please update the gencode to avoid compatibility violations in the next runtime release.\n",
      "  warnings.warn(\n",
      "/opt/conda/envs/iris_env_c/lib/python3.10/site-packages/google/protobuf/runtime_version.py:98: UserWarning: Protobuf gencode version 5.29.0 is exactly one major version older than the runtime version 6.31.1 at feast/core/Entity.proto. Please update the gencode to avoid compatibility violations in the next runtime release.\n",
      "  warnings.warn(\n",
      "/opt/conda/envs/iris_env_c/lib/python3.10/site-packages/google/protobuf/runtime_version.py:98: UserWarning: Protobuf gencode version 5.29.0 is exactly one major version older than the runtime version 6.31.1 at feast/types/EntityKey.proto. Please update the gencode to avoid compatibility violations in the next runtime release.\n",
      "  warnings.warn(\n",
      "/opt/conda/envs/iris_env_c/lib/python3.10/site-packages/google/protobuf/runtime_version.py:98: UserWarning: Protobuf gencode version 5.29.0 is exactly one major version older than the runtime version 6.31.1 at feast/serving/ServingService.proto. Please update the gencode to avoid compatibility violations in the next runtime release.\n",
      "  warnings.warn(\n",
      "/opt/conda/envs/iris_env_c/lib/python3.10/site-packages/google/protobuf/runtime_version.py:98: UserWarning: Protobuf gencode version 5.29.0 is exactly one major version older than the runtime version 6.31.1 at feast/core/FeatureViewProjection.proto. Please update the gencode to avoid compatibility violations in the next runtime release.\n",
      "  warnings.warn(\n",
      "/opt/conda/envs/iris_env_c/lib/python3.10/site-packages/google/protobuf/runtime_version.py:98: UserWarning: Protobuf gencode version 5.29.0 is exactly one major version older than the runtime version 6.31.1 at feast/core/FeatureView.proto. Please update the gencode to avoid compatibility violations in the next runtime release.\n",
      "  warnings.warn(\n",
      "/opt/conda/envs/iris_env_c/lib/python3.10/site-packages/google/protobuf/runtime_version.py:98: UserWarning: Protobuf gencode version 5.29.0 is exactly one major version older than the runtime version 6.31.1 at feast/core/OnDemandFeatureView.proto. Please update the gencode to avoid compatibility violations in the next runtime release.\n",
      "  warnings.warn(\n",
      "/opt/conda/envs/iris_env_c/lib/python3.10/site-packages/google/protobuf/runtime_version.py:98: UserWarning: Protobuf gencode version 5.29.0 is exactly one major version older than the runtime version 6.31.1 at feast/core/Transformation.proto. Please update the gencode to avoid compatibility violations in the next runtime release.\n",
      "  warnings.warn(\n",
      "/opt/conda/envs/iris_env_c/lib/python3.10/site-packages/google/protobuf/runtime_version.py:98: UserWarning: Protobuf gencode version 5.29.0 is exactly one major version older than the runtime version 6.31.1 at feast/core/StreamFeatureView.proto. Please update the gencode to avoid compatibility violations in the next runtime release.\n",
      "  warnings.warn(\n",
      "/opt/conda/envs/iris_env_c/lib/python3.10/site-packages/google/protobuf/runtime_version.py:98: UserWarning: Protobuf gencode version 5.29.0 is exactly one major version older than the runtime version 6.31.1 at feast/core/Aggregation.proto. Please update the gencode to avoid compatibility violations in the next runtime release.\n",
      "  warnings.warn(\n",
      "/opt/conda/envs/iris_env_c/lib/python3.10/site-packages/google/protobuf/runtime_version.py:98: UserWarning: Protobuf gencode version 5.29.0 is exactly one major version older than the runtime version 6.31.1 at feast/core/FeatureService.proto. Please update the gencode to avoid compatibility violations in the next runtime release.\n",
      "  warnings.warn(\n",
      "/opt/conda/envs/iris_env_c/lib/python3.10/site-packages/google/protobuf/runtime_version.py:98: UserWarning: Protobuf gencode version 5.29.0 is exactly one major version older than the runtime version 6.31.1 at feast/core/SavedDataset.proto. Please update the gencode to avoid compatibility violations in the next runtime release.\n",
      "  warnings.warn(\n",
      "/opt/conda/envs/iris_env_c/lib/python3.10/site-packages/google/protobuf/runtime_version.py:98: UserWarning: Protobuf gencode version 5.29.0 is exactly one major version older than the runtime version 6.31.1 at feast/core/ValidationProfile.proto. Please update the gencode to avoid compatibility violations in the next runtime release.\n",
      "  warnings.warn(\n",
      "/opt/conda/envs/iris_env_c/lib/python3.10/site-packages/google/protobuf/runtime_version.py:98: UserWarning: Protobuf gencode version 5.29.0 is exactly one major version older than the runtime version 6.31.1 at feast/core/Project.proto. Please update the gencode to avoid compatibility violations in the next runtime release.\n",
      "  warnings.warn(\n",
      "/opt/conda/envs/iris_env_c/lib/python3.10/site-packages/google/protobuf/runtime_version.py:98: UserWarning: Protobuf gencode version 5.29.0 is exactly one major version older than the runtime version 6.31.1 at feast/core/Policy.proto. Please update the gencode to avoid compatibility violations in the next runtime release.\n",
      "  warnings.warn(\n",
      "/opt/conda/envs/iris_env_c/lib/python3.10/site-packages/google/protobuf/runtime_version.py:98: UserWarning: Protobuf gencode version 5.29.0 is exactly one major version older than the runtime version 6.31.1 at feast/core/Permission.proto. Please update the gencode to avoid compatibility violations in the next runtime release.\n",
      "  warnings.warn(\n",
      "/opt/conda/envs/iris_env_c/lib/python3.10/site-packages/google/protobuf/runtime_version.py:98: UserWarning: Protobuf gencode version 5.29.0 is exactly one major version older than the runtime version 6.31.1 at feast/core/DatastoreTable.proto. Please update the gencode to avoid compatibility violations in the next runtime release.\n",
      "  warnings.warn(\n",
      "/opt/conda/envs/iris_env_c/lib/python3.10/site-packages/pydantic/_internal/_fields.py:192: UserWarning: Field name \"vector_enabled\" in \"SqliteOnlineStoreConfig\" shadows an attribute in parent \"VectorStoreConfig\"\n",
      "  warnings.warn(\n",
      "/opt/conda/envs/iris_env_c/lib/python3.10/site-packages/feast/repo_config.py:268: DeprecationWarning: The serialization version 2 and below will be deprecated in the next release. Specifying `entity_key_serialization_version` to 3 is recommended.\n",
      "  warnings.warn(\n"
     ]
    },
    {
     "data": {
      "text/plain": [
       "((150, 7),\n",
       " Index(['flower_id', 'event_timestamp', 'species', 'sepal_length',\n",
       "        'sepal_width', 'petal_length', 'petal_width'],\n",
       "       dtype='object'),\n",
       "    flower_id           event_timestamp    species  sepal_length  sepal_width  \\\n",
       " 0        110 2023-12-31 23:59:59+00:00  virginica           6.8          3.0   \n",
       " 1        105 2023-12-31 23:59:59+00:00  virginica           6.7          3.3   \n",
       " 2         20 2023-12-31 23:59:59+00:00     setosa           4.6          3.2   \n",
       " 3        132 2023-12-31 23:59:59+00:00  virginica           6.9          3.1   \n",
       " 4          1 2023-12-31 23:59:59+00:00     setosa           4.6          3.6   \n",
       " \n",
       "    petal_length  petal_width  \n",
       " 0           5.5          2.1  \n",
       " 1           5.7          2.5  \n",
       " 2           1.4          0.2  \n",
       " 3           5.4          2.1  \n",
       " 4           1.0          0.2  )"
      ]
     },
     "execution_count": 1,
     "metadata": {},
     "output_type": "execute_result"
    }
   ],
   "source": [
    "from helpers.feast_utils import load_training_data, load_simulated_online_features\n",
    "\n",
    "feature_df = load_feast_features(2023, 2023)\n",
    "feature_df.shape, feature_df.columns, feature_df.head()"
   ]
  },
  {
   "cell_type": "code",
   "execution_count": 5,
   "id": "3eb3ab44-782f-4d88-947b-235c8f5e51f7",
   "metadata": {
    "tags": []
   },
   "outputs": [
    {
     "name": "stdout",
     "output_type": "stream",
     "text": [
      "(150, 4) (150,)\n",
      "First 5 rows of X:\n",
      "   sepal_length  sepal_width  petal_length  petal_width\n",
      "0           6.8          3.0           5.5          2.1\n",
      "1           6.7          3.3           5.7          2.5\n",
      "2           4.6          3.2           1.4          0.2\n",
      "3           6.9          3.1           5.4          2.1\n",
      "4           4.6          3.6           1.0          0.2\n",
      "\n",
      "First 5 rows of y:\n",
      "0    virginica\n",
      "1    virginica\n",
      "2       setosa\n",
      "3    virginica\n",
      "4       setosa\n",
      "Name: species, dtype: object\n"
     ]
    }
   ],
   "source": [
    "X = feature_df.drop(columns=[\"flower_id\", \"event_timestamp\", \"species\"])\n",
    "y = feature_df[\"species\"]\n",
    "\n",
    "print(X.shape, y.shape)\n",
    "\n",
    "print(f\"First 5 rows of X:\\n{X.head()}\\n\")\n",
    "print(f\"First 5 rows of y:\\n{y.head()}\")"
   ]
  },
  {
   "cell_type": "markdown",
   "id": "9aa852ac-595f-418b-afbd-756a15df44f1",
   "metadata": {},
   "source": [
    "## 2. Track data with DVC  "
   ]
  },
  {
   "cell_type": "code",
   "execution_count": null,
   "id": "409c73ce-bd45-45c9-a141-b49ecc786339",
   "metadata": {},
   "outputs": [],
   "source": []
  },
  {
   "cell_type": "markdown",
   "id": "9388ab30-8c3d-4120-82ea-94472f664fbf",
   "metadata": {},
   "source": [
    "## 3. Track experiments with MLflow  "
   ]
  },
  {
   "cell_type": "code",
   "execution_count": null,
   "id": "13a17646-e1f5-4b31-8ed2-222ad43d7195",
   "metadata": {},
   "outputs": [],
   "source": []
  }
 ],
 "metadata": {
  "environment": {
   "kernel": "iris_env_c",
   "name": "workbench-notebooks.m129",
   "type": "gcloud",
   "uri": "us-docker.pkg.dev/deeplearning-platform-release/gcr.io/workbench-notebooks:m129"
  },
  "kernelspec": {
   "display_name": "Conda env iris_env_c",
   "language": "python",
   "name": "iris_env_c"
  },
  "language_info": {
   "codemirror_mode": {
    "name": "ipython",
    "version": 3
   },
   "file_extension": ".py",
   "mimetype": "text/x-python",
   "name": "python",
   "nbconvert_exporter": "python",
   "pygments_lexer": "ipython3",
   "version": "3.10.17"
  }
 },
 "nbformat": 4,
 "nbformat_minor": 5
}
