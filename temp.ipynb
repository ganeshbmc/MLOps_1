{
 "cells": [
  {
   "cell_type": "markdown",
   "id": "11ebb988-2611-477d-8c6a-8dd56158f255",
   "metadata": {},
   "source": [
    "## This is a temporary notebook for rough work"
   ]
  },
  {
   "cell_type": "code",
   "execution_count": 6,
   "id": "df752d63-2f3e-4582-9e9a-d4501287a90f",
   "metadata": {
    "tags": []
   },
   "outputs": [],
   "source": [
    "from pathlib import Path\n",
    "\n",
    "def print_tree(path, prefix=\"\"):\n",
    "    path = Path(path)\n",
    "    for child in sorted(path.iterdir()):\n",
    "        print(f\"{prefix}├── {child.name}\")\n",
    "        if child.is_dir():\n",
    "            print_tree(child, prefix + \"│   \")"
   ]
  },
  {
   "cell_type": "code",
   "execution_count": 9,
   "id": "acc29638-85b7-4ff1-a964-b8eb51a8a258",
   "metadata": {
    "tags": []
   },
   "outputs": [
    {
     "name": "stdout",
     "output_type": "stream",
     "text": [
      "├── .ipynb_checkpoints\n",
      "│   ├── iris_entity-checkpoint.csv\n",
      "│   ├── iris_petal-checkpoint.csv\n",
      "│   ├── iris_sepal-checkpoint.csv\n",
      "│   ├── online_features_iris-checkpoint.csv\n",
      "├── iris_entity.csv\n",
      "├── iris_petal.csv\n",
      "├── iris_petal.parquet\n",
      "├── iris_sepal.csv\n",
      "├── iris_sepal.parquet\n",
      "├── online_features_iris.csv\n",
      "├── online_store.db\n",
      "├── registry.db\n"
     ]
    }
   ],
   "source": [
    "print_tree(\"data\")"
   ]
  },
  {
   "cell_type": "code",
   "execution_count": 11,
   "id": "cf5c41ee-49b0-41e1-bcb1-ef0e5d54f0f9",
   "metadata": {
    "tags": []
   },
   "outputs": [
    {
     "name": "stdout",
     "output_type": "stream",
     "text": [
      "├── .ipynb_checkpoints\n",
      "├── feast_iris_label_encoder.joblib\n",
      "├── feast_iris_model.joblib\n"
     ]
    }
   ],
   "source": [
    "print_tree(\"artifacts\")"
   ]
  },
  {
   "cell_type": "code",
   "execution_count": 13,
   "id": "583490b8-1812-4c20-8fa0-bce3c39c8ce4",
   "metadata": {
    "tags": []
   },
   "outputs": [
    {
     "name": "stdout",
     "output_type": "stream",
     "text": [
      "├── .ipynb_checkpoints\n",
      "│   ├── entity-checkpoint.py\n",
      "│   ├── feature_store-checkpoint.yaml\n",
      "│   ├── feature_views-checkpoint.py\n",
      "│   ├── training_df-checkpoint.csv\n",
      "│   ├── week3_iris_feast-checkpoint.ipynb\n",
      "├── __init__.py\n",
      "├── entity.py\n",
      "├── feature_store.yaml\n",
      "├── feature_views.py\n",
      "├── training_df.csv\n",
      "├── week3_iris_feast.ipynb\n"
     ]
    }
   ],
   "source": [
    "print_tree(\"feast_iris\")"
   ]
  },
  {
   "cell_type": "code",
   "execution_count": 14,
   "id": "8aa9719d-64fd-4aa6-bf54-6881b0a56f68",
   "metadata": {
    "tags": []
   },
   "outputs": [
    {
     "name": "stdout",
     "output_type": "stream",
     "text": [
      "├── .ipynb_checkpoints\n",
      "│   ├── test_data_validation-checkpoint.py\n",
      "│   ├── test_model_evaluation-checkpoint.py\n",
      "├── test_data_validation.py\n",
      "├── test_model_evaluation.py\n"
     ]
    }
   ],
   "source": [
    "print_tree(\"tests\")"
   ]
  },
  {
   "cell_type": "code",
   "execution_count": 18,
   "id": "79fd7478-3ffe-4725-9f6d-aebe6348bd5c",
   "metadata": {
    "tags": []
   },
   "outputs": [
    {
     "name": "stdout",
     "output_type": "stream",
     "text": [
      "None\n"
     ]
    }
   ],
   "source": []
  },
  {
   "cell_type": "code",
   "execution_count": 3,
   "id": "d17a620a-a1cb-4e25-befe-ddc9609671fa",
   "metadata": {},
   "outputs": [],
   "source": [
    "import os\n",
    "import sys\n",
    "# sys.path.append(os.path.abspath(os.path.join(os.path.dirname(__file__), '..')))\n",
    "from helpers.mlflow_dvc_utils import get_git_commit_hash, get_dvc_md5_hash"
   ]
  },
  {
   "cell_type": "code",
   "execution_count": 7,
   "id": "75fa28f0-f255-4899-987b-a6528e7d29dc",
   "metadata": {
    "tags": []
   },
   "outputs": [
    {
     "data": {
      "text/plain": [
       "'unknown'"
      ]
     },
     "execution_count": 7,
     "metadata": {},
     "output_type": "execute_result"
    }
   ],
   "source": [
    "get_dvc_md5_hash(\"/data/train_2023.csv.dvc\")"
   ]
  },
  {
   "cell_type": "code",
   "execution_count": null,
   "id": "ab418e2e-b48b-4bb5-bf10-59bf767e9f90",
   "metadata": {},
   "outputs": [],
   "source": []
  }
 ],
 "metadata": {
  "environment": {
   "kernel": "iris_env_c",
   "name": "workbench-notebooks.m129",
   "type": "gcloud",
   "uri": "us-docker.pkg.dev/deeplearning-platform-release/gcr.io/workbench-notebooks:m129"
  },
  "kernelspec": {
   "display_name": "Conda env iris_env_c",
   "language": "python",
   "name": "iris_env_c"
  },
  "language_info": {
   "codemirror_mode": {
    "name": "ipython",
    "version": 3
   },
   "file_extension": ".py",
   "mimetype": "text/x-python",
   "name": "python",
   "nbconvert_exporter": "python",
   "pygments_lexer": "ipython3",
   "version": "3.10.17"
  }
 },
 "nbformat": 4,
 "nbformat_minor": 5
}
